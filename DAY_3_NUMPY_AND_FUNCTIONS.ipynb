{
  "nbformat": 4,
  "nbformat_minor": 0,
  "metadata": {
    "colab": {
      "provenance": [],
      "authorship_tag": "ABX9TyP6TyddYyfZxItRDo2TsHDy",
      "include_colab_link": true
    },
    "kernelspec": {
      "name": "python3",
      "display_name": "Python 3"
    },
    "language_info": {
      "name": "python"
    }
  },
  "cells": [
    {
      "cell_type": "markdown",
      "metadata": {
        "id": "view-in-github",
        "colab_type": "text"
      },
      "source": [
        "<a href=\"https://colab.research.google.com/github/dh839/AI_ML-Program/blob/main/DAY_3_NUMPY_AND_FUNCTIONS.ipynb\" target=\"_parent\"><img src=\"https://colab.research.google.com/assets/colab-badge.svg\" alt=\"Open In Colab\"/></a>"
      ]
    },
    {
      "cell_type": "code",
      "execution_count": null,
      "metadata": {
        "colab": {
          "base_uri": "https://localhost:8080/"
        },
        "id": "6ycct7zeWtpZ",
        "outputId": "dbd2de3a-180c-4a31-c048-1993b283c634"
      },
      "outputs": [
        {
          "output_type": "stream",
          "name": "stdout",
          "text": [
            "Array 1: [1 2 3 4 5]\n",
            "Array 1 slicing [2 3]\n",
            "Add of two arrays [11 22 33 44 55]\n",
            "Sub of two arrays [ -9 -18 -27 -36 -45]\n",
            "Data type of arr1 int64\n",
            "Size of arr2 5\n",
            "Reshape of array 1 [[1]\n",
            " [2]\n",
            " [3]\n",
            " [4]\n",
            " [5]]\n",
            "sort of array 3 elements [ 1  2  3  4 10 15 20]\n",
            "Mean of array 3 is 7.857142857142857\n",
            "Max of array 1 5\n",
            "max of array 3 is 20\n",
            "Min of array 3 is 1\n",
            "Argmax of array3 is 6\n"
          ]
        }
      ],
      "source": [
        "#single dimension\n",
        "import numpy as np\n",
        "arr1 = np.array([1, 2, 3, 4, 5])\n",
        "arr2 = np.array([10, 20, 30, 40, 50])\n",
        "print(\"Array 1:\", arr1)\n",
        "print(\"Array 1 slicing\", arr1[1:3])\n",
        "print(\"Add of two arrays\", arr1 + arr2)\n",
        "print(\"Sub of two arrays\", arr1 - arr2)\n",
        "print(\"Data type of arr1\", arr1.dtype)\n",
        "print(\"Size of arr2\", arr1.size)\n",
        "print(\"Reshape of array 1\", arr1.reshape(5, 1))\n",
        "\n",
        "arr3 = np.array([20, 10, 2, 3, 4, 15, 1])\n",
        "arr3.sort()\n",
        "print(\"sort of array 3 elements\", arr3)\n",
        "print(\"Mean of array 3 is\", arr3.mean())\n",
        "print(\"Max of array 1\", arr1.max())\n",
        "print(\"max of array 3 is\", arr3.max())\n",
        "print(\"Min of array 3 is\", arr3.min())\n",
        "\n",
        "index = np.argmax(arr3)\n",
        "print(\"Argmax of array3 is\", index)\n",
        "\n",
        "index1 = np.argmin(arr3)"
      ]
    },
    {
      "cell_type": "code",
      "source": [
        "#two dimensional array\n",
        "arr1 = np.array([[1, 2, 3],[4,5,6]])\n",
        "arr2 = np.array([[10, 20, 30],[40,50,60]])\n",
        "print(\"Array 1: \",arr1)\n",
        "print(\"Array 2: \",arr2)\n",
        "print(\"Size of arr1\", arr1.size)\n",
        "print(\"Data type of arr1\",type(arr1))\n",
        "print(\"After reshaping of arr1\",arr1.reshape(1,6))\n",
        "np.sort(arr1)\n",
        "print(\"Sorting of arr1\",arr1)\n",
        "print(\"Min of array 1 is\", arr1.min())\n",
        "print(\"Max of array 1 is\", arr1.max())\n",
        "print(\"Argmin of array1 is\", arr1.argmin())\n",
        "print(\"Argmax of array1 is\", arr1.argmax())\n",
        "ar1=arr1+arr2\n",
        "print(\"SUM\", ar1)\n",
        "product = arr1 * arr2\n",
        "print(\"PRODUCT\",product)\n",
        "unique_arr1 = np.unique(arr1)\n",
        "unique_arr2 = np.unique(arr2)\n",
        "print(\"Unique in arr1:\", unique_arr1)\n",
        "print(\"Unique in arr2:\", unique_arr2)\n",
        "arr1_copy = arr1.copy()\n",
        "arr2_copy = arr2.copy()\n",
        "print(\"Original arr1\", arr1)\n",
        "print(\"Copied arr1_copy\", arr1_copy)\n",
        "arra1 = np.array([[1, 2, 3],[4,5,6],[1,2,1]])\n",
        "arra2 = np.array([[1, 2, 3],[4,5,6],[1,2,1]])\n",
        "arra3=np.dot(arra1,arra2)\n",
        "print(\"PRODUCT\", arra3)"
      ],
      "metadata": {
        "colab": {
          "base_uri": "https://localhost:8080/"
        },
        "id": "8zCK7QJCtPpn",
        "outputId": "c83a445d-ce9d-48df-c936-4bf321024301"
      },
      "execution_count": null,
      "outputs": [
        {
          "output_type": "stream",
          "name": "stdout",
          "text": [
            "Array 1:  [[1 2 3]\n",
            " [4 5 6]]\n",
            "Array 2:  [[10 20 30]\n",
            " [40 50 60]]\n",
            "Size of arr1 6\n",
            "Data type of arr1 <class 'numpy.ndarray'>\n",
            "After reshaping of arr1 [[1 2 3 4 5 6]]\n",
            "Sorting of arr1 [[1 2 3]\n",
            " [4 5 6]]\n",
            "Min of array 1 is 1\n",
            "Max of array 1 is 6\n",
            "Argmin of array1 is 0\n",
            "Argmax of array1 is 5\n",
            "SUM [[11 22 33]\n",
            " [44 55 66]]\n",
            "PRODUCT [[ 10  40  90]\n",
            " [160 250 360]]\n",
            "Unique in arr1: [1 2 3 4 5 6]\n",
            "Unique in arr2: [10 20 30 40 50 60]\n",
            "Original arr1 [[1 2 3]\n",
            " [4 5 6]]\n",
            "Copied arr1_copy [[1 2 3]\n",
            " [4 5 6]]\n",
            "PRODUCT [[12 18 18]\n",
            " [30 45 48]\n",
            " [10 14 16]]\n"
          ]
        }
      ]
    }
  ]
}