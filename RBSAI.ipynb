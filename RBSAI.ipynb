{
  "nbformat": 4,
  "nbformat_minor": 0,
  "metadata": {
    "colab": {
      "provenance": [],
      "authorship_tag": "ABX9TyNXRLTbB+YK7vTTaNeU6B8c",
      "include_colab_link": true
    },
    "kernelspec": {
      "name": "python3",
      "display_name": "Python 3"
    },
    "language_info": {
      "name": "python"
    }
  },
  "cells": [
    {
      "cell_type": "markdown",
      "metadata": {
        "id": "view-in-github",
        "colab_type": "text"
      },
      "source": [
        "<a href=\"https://colab.research.google.com/github/Mujthaba-GM/AI_ML-Program/blob/main/RBSAI.ipynb\" target=\"_parent\"><img src=\"https://colab.research.google.com/assets/colab-badge.svg\" alt=\"Open In Colab\"/></a>"
      ]
    },
    {
      "cell_type": "code",
      "execution_count": 8,
      "metadata": {
        "colab": {
          "base_uri": "https://localhost:8080/"
        },
        "id": "MRn0V529nnW7",
        "outputId": "b7f59719-12f9-4d13-d352-389e64b55ec0"
      },
      "outputs": [
        {
          "output_type": "stream",
          "name": "stdout",
          "text": [
            "Flu\n",
            "Heart issues\n",
            "covid\n",
            "Go to another consultant\n"
          ]
        }
      ],
      "source": [
        "#Rule based system for disease diagnosis based on sympotoms of patient\n",
        "def diagnosis(symptoms):\n",
        "  if \"Fever\" in symptoms and \"head_ache\" in symptoms and \"body_pains\" in symptoms:\n",
        "    print(\"Flu\")\n",
        "  elif \"highBP\" in symptoms and \"HighCholestrol\" in symptoms and \"Thick_blood\" in symptoms:\n",
        "    print(\"Heart issues\")\n",
        "  elif \"High_fever\" in symptoms and \"Breathing_issues\" in symptoms and \"Throat_infections\" in symptoms:\n",
        "    print(\"covid\")\n",
        "  else:\n",
        "    print(\"Go to another consultant\")\n",
        "\n",
        "\n",
        "#symptoms =[\"Fever\",\"head_ache\",\"body_pains\",\"highBP\",\"HighCholestrol\",\"Thick_blood\",\"High_fever\",\"Breathing_issues\",\"Throat_infections\"]\n",
        "patient_symptoms1=[\"Fever\",\"head_ache\",\"body_pains\"]\n",
        "diagnosis(patient_symptoms1)\n",
        "patient_symptoms2=[\"highBP\",\"HighCholestrol\",\"Thick_blood\"]\n",
        "diagnosis(patient_symptoms2)\n",
        "patient_symptoms3=[\"High_fever\",\"Breathing_issues\",\"Throat_infections\"]\n",
        "diagnosis(patient_symptoms3)\n",
        "patient_symptoms4=[\"new issues\"]\n",
        "diagnosis(patient_symptoms4)\n"
      ]
    },
    {
      "cell_type": "code",
      "source": [
        "#Rule based system for disease diagnosis based on sympotoms of patient\n",
        "def diagnosis(symptoms):\n",
        "  if \"fever\" in symptoms:\n",
        "    print(\"Flu\")\n",
        "  elif \"highBP\" in symptoms:\n",
        "    print(\"Heart issues\")\n",
        "  elif \"High_fever\" in symptoms:\n",
        "    print(\"covid\")\n",
        "  else:\n",
        "    print(\"Go to another consultant\")\n",
        "\n",
        "\n",
        "#symptoms =[\"Fever\",\"head_ache\",\"body_pains\",\"highBP\",\"HighCholestrol\",\"Thick_blood\",\"High_fever\",\"Breathing_issues\",\"Throat_infections\"]\n",
        "print(\"Patient diagnosis systems\")\n",
        "symptoms=input(\"Enter the symptoms\")\n",
        "diagnosis(symptoms)\n",
        "\n"
      ],
      "metadata": {
        "colab": {
          "base_uri": "https://localhost:8080/"
        },
        "id": "bAycS9dHzKX4",
        "outputId": "7fc2fb2e-e8fc-4692-da41-b4845ad3981c"
      },
      "execution_count": 12,
      "outputs": [
        {
          "output_type": "stream",
          "name": "stdout",
          "text": [
            "Patient diagnosis systems\n",
            "Enter the symptomskidney problems\n",
            "Go to another consultant\n"
          ]
        }
      ]
    },
    {
      "cell_type": "code",
      "source": [],
      "metadata": {
        "id": "qns9z-e10AKH"
      },
      "execution_count": null,
      "outputs": []
    },
    {
      "cell_type": "code",
      "source": [],
      "metadata": {
        "id": "oQBtldvvvllV"
      },
      "execution_count": null,
      "outputs": []
    }
  ]
}