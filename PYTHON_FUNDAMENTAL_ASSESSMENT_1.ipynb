{
  "nbformat": 4,
  "nbformat_minor": 0,
  "metadata": {
    "colab": {
      "provenance": [],
      "authorship_tag": "ABX9TyPNl4rg34uRPRmpOYBRwO2n",
      "include_colab_link": true
    },
    "kernelspec": {
      "name": "python3",
      "display_name": "Python 3"
    },
    "language_info": {
      "name": "python"
    }
  },
  "cells": [
    {
      "cell_type": "markdown",
      "metadata": {
        "id": "view-in-github",
        "colab_type": "text"
      },
      "source": [
        "<a href=\"https://colab.research.google.com/github/dh839/AI_ML-Program/blob/main/PYTHON_FUNDAMENTAL_ASSESSMENT_1.ipynb\" target=\"_parent\"><img src=\"https://colab.research.google.com/assets/colab-badge.svg\" alt=\"Open In Colab\"/></a>"
      ]
    },
    {
      "cell_type": "code",
      "execution_count": 9,
      "metadata": {
        "colab": {
          "base_uri": "https://localhost:8080/"
        },
        "id": "cfH7VyG5_3Z0",
        "outputId": "8b3e45b6-8ff0-4920-89d6-ac126656e65c"
      },
      "outputs": [
        {
          "output_type": "stream",
          "name": "stdout",
          "text": [
            "Enter the value of a: 10\n",
            "Enter the value of b: 20\n",
            "Enter the value of c: 30\n",
            "c is the greatest value:  30\n"
          ]
        }
      ],
      "source": [
        "a=int(input(\"Enter the value of a: \"))\n",
        "b=int(input(\"Enter the value of b: \"))\n",
        "c=int(input(\"Enter the value of c: \"))\n",
        "if a>b:\n",
        "  if a>c:\n",
        "    print(\"a is the greatest value: \",a)\n",
        "  elif b>c:\n",
        "    print(\"b is the greatest value: \",b)\n",
        "else:\n",
        "  print(\"c is the greatest value: \",c)"
      ]
    },
    {
      "cell_type": "code",
      "source": [
        "m=int(input(\"Enter the marks scored in Mathematics: \"))\n",
        "p=int(input(\"Enter the marks scored in Physics: \"))\n",
        "c=int(input(\"Enter the marks scored in Chemistry: \"))\n",
        "sum=m+p+c\n",
        "avg=sum/3\n",
        "print(\"The average of total marks is: \",avg)\n",
        "if avg>=90:\n",
        "  print(\"You scored an A!\")\n",
        "elif avg>=75:\n",
        "  print(\"You scored a B!\")\n",
        "elif avg>=50:\n",
        "  print(\"You scored a C!\")\n",
        "else:\n",
        "  print(\"You scored a F.\")\n",
        "\n"
      ],
      "metadata": {
        "colab": {
          "base_uri": "https://localhost:8080/"
        },
        "id": "OYk3jq0MBhDe",
        "outputId": "cf9de396-edcc-4217-ea2f-d38310ed8620"
      },
      "execution_count": 11,
      "outputs": [
        {
          "output_type": "stream",
          "name": "stdout",
          "text": [
            "Enter the marks scored in Mathematics: 95\n",
            "Enter the marks scored in Physics: 90\n",
            "Enter the marks scored in Chemistry: 85\n",
            "The average of total marks is:  90.0\n",
            "You scored an A!\n"
          ]
        }
      ]
    },
    {
      "cell_type": "code",
      "source": [
        "n=int(input(\"Enter the value of n:\"))\n",
        "i=1\n",
        "sum=0\n",
        "while i<=n:\n",
        "  print(\"The value of i\",i)\n",
        "  i=i+1\n",
        "  sum=sum+i\n",
        "print(\"The sum: \",sum)\n"
      ],
      "metadata": {
        "colab": {
          "base_uri": "https://localhost:8080/"
        },
        "id": "nw5e-4AjCyTt",
        "outputId": "24e5c1c6-e51f-4693-d6e0-1703705fcf69"
      },
      "execution_count": 16,
      "outputs": [
        {
          "output_type": "stream",
          "name": "stdout",
          "text": [
            "Enter the value of n:10\n",
            "The value of i 1\n",
            "The value of i 2\n",
            "The value of i 3\n",
            "The value of i 4\n",
            "The value of i 5\n",
            "The value of i 6\n",
            "The value of i 7\n",
            "The value of i 8\n",
            "The value of i 9\n",
            "The value of i 10\n",
            "The sum:  65\n"
          ]
        }
      ]
    },
    {
      "cell_type": "code",
      "source": [
        "int_list=[3,4,6,7]\n",
        "\n",
        "int_list.append(10)\n",
        "print(int_list)\n",
        "\n",
        "int_list.insert(2,5)\n",
        "print(int_list)\n",
        "\n",
        "int_list.remove(7)\n",
        "print(int_list)\n",
        "\n",
        "int_list.reverse()\n",
        "print(int_list)\n",
        "\n"
      ],
      "metadata": {
        "colab": {
          "base_uri": "https://localhost:8080/"
        },
        "id": "A79QjaUyEU8q",
        "outputId": "f5126bda-f255-40a9-84b8-652c79085546"
      },
      "execution_count": 19,
      "outputs": [
        {
          "output_type": "stream",
          "name": "stdout",
          "text": [
            "[3, 4, 6, 7, 10]\n",
            "[3, 4, 5, 6, 7, 10]\n",
            "[3, 4, 5, 6, 10]\n",
            "[10, 6, 5, 4, 3]\n"
          ]
        }
      ]
    },
    {
      "cell_type": "code",
      "source": [
        "int_tuple=(6,7,8,9,10,8,8)\n",
        "\n",
        "lenght_tuple=len(int_tuple)\n",
        "print(lenght_tuple)\n",
        "\n",
        "int_tuple_new = int_tuple.count(8)\n",
        "print(int_tuple_new)\n",
        "\n",
        "\n",
        "\n"
      ],
      "metadata": {
        "colab": {
          "base_uri": "https://localhost:8080/"
        },
        "id": "g-RntlK9FbJG",
        "outputId": "206c248d-28f3-4cfb-9750-367d220aff61"
      },
      "execution_count": 40,
      "outputs": [
        {
          "output_type": "stream",
          "name": "stdout",
          "text": [
            "7\n",
            "3\n"
          ]
        }
      ]
    },
    {
      "cell_type": "code",
      "source": [
        "set_1={1,2,3,4,5}\n",
        "set_2={4,5,6,2,7}\n",
        "\n",
        "print(\"UNION: \",set_1|set_2)\n",
        "print(\"INTERSECTION: \",set_1&set_2)\n",
        "set_1.difference(set_2)\n",
        "print(\"DIFFERENCE: \",set_1)\n"
      ],
      "metadata": {
        "colab": {
          "base_uri": "https://localhost:8080/"
        },
        "id": "T5sxjtMwIR7B",
        "outputId": "fb52e92e-e34d-480c-e702-6bbcdd80c238"
      },
      "execution_count": 38,
      "outputs": [
        {
          "output_type": "stream",
          "name": "stdout",
          "text": [
            "UNION:  {1, 2, 3, 4, 5, 6, 7}\n",
            "INTERSECTION:  {2, 4, 5}\n",
            "DIFFERENCE:  {1, 2, 3, 4, 5}\n"
          ]
        }
      ]
    },
    {
      "cell_type": "code",
      "source": [
        "d_1={\"name\":\"A\", \"marks\": 587}\n",
        "print(d_1)\n",
        "d_2={\"name\":\"B\", \"marks\": 566}\n",
        "print(d_2)\n",
        "d_1[\"marks\"]=586\n",
        "print(d_1)"
      ],
      "metadata": {
        "colab": {
          "base_uri": "https://localhost:8080/"
        },
        "id": "oGbDbaoDJdJE",
        "outputId": "5fffce7b-23a7-487a-bea3-ed2d0d01f90d"
      },
      "execution_count": 44,
      "outputs": [
        {
          "output_type": "stream",
          "name": "stdout",
          "text": [
            "{'name': 'A', 'marks': 587}\n",
            "{'name': 'B', 'marks': 566}\n",
            "{'name': 'A', 'marks': 586}\n"
          ]
        }
      ]
    }
  ]
}