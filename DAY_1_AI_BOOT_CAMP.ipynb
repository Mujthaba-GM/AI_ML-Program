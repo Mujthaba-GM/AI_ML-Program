{
  "nbformat": 4,
  "nbformat_minor": 0,
  "metadata": {
    "colab": {
      "provenance": [],
      "authorship_tag": "ABX9TyMn8Szfb8lGuJCH2TEs0W4y",
      "include_colab_link": true
    },
    "kernelspec": {
      "name": "python3",
      "display_name": "Python 3"
    },
    "language_info": {
      "name": "python"
    }
  },
  "cells": [
    {
      "cell_type": "markdown",
      "metadata": {
        "id": "view-in-github",
        "colab_type": "text"
      },
      "source": [
        "<a href=\"https://colab.research.google.com/github/dh839/AI_ML-Program/blob/main/DAY_1_AI_BOOT_CAMP.ipynb\" target=\"_parent\"><img src=\"https://colab.research.google.com/assets/colab-badge.svg\" alt=\"Open In Colab\"/></a>"
      ]
    },
    {
      "cell_type": "code",
      "execution_count": 1,
      "metadata": {
        "colab": {
          "base_uri": "https://localhost:8080/"
        },
        "id": "gtLkYtP2zFdN",
        "outputId": "1dfea6dd-793f-44a3-c13f-f0bd691595fd"
      },
      "outputs": [
        {
          "output_type": "stream",
          "name": "stdout",
          "text": [
            "hello\n"
          ]
        }
      ],
      "source": [
        "print(\"hello\")"
      ]
    },
    {
      "cell_type": "code",
      "source": [
        "# adding of two numbers\n",
        "a=2\n",
        "b=4\n",
        "c=a+b\n",
        "print(\"c\",c)"
      ],
      "metadata": {
        "colab": {
          "base_uri": "https://localhost:8080/"
        },
        "id": "gXptwQaYzeWt",
        "outputId": "4bb3b9bb-d44d-44b1-8b2f-aa1069e7fff3"
      },
      "execution_count": 2,
      "outputs": [
        {
          "output_type": "stream",
          "name": "stdout",
          "text": [
            "c 6\n"
          ]
        }
      ]
    },
    {
      "cell_type": "code",
      "source": [
        "# Arithmetic Operators\n",
        "a=5\n",
        "b=7\n",
        "print(\"a+b = \",a+b)\n",
        "print(\"b-a = \",b-a)\n",
        "print(\"a*b = \",a*b)\n",
        "print(\"a/b = \",a/b)\n",
        "print(\"a%b = \",a%b)\n",
        "\n"
      ],
      "metadata": {
        "colab": {
          "base_uri": "https://localhost:8080/"
        },
        "id": "rE5Tm6lez8dP",
        "outputId": "87a4075e-1aef-472b-e8b0-aa5f76093c2c"
      },
      "execution_count": 3,
      "outputs": [
        {
          "output_type": "stream",
          "name": "stdout",
          "text": [
            "a+b =  12\n",
            "b-a =  2\n",
            "a*b =  35\n",
            "a/b =  0.7142857142857143\n",
            "a%b =  5\n"
          ]
        }
      ]
    },
    {
      "cell_type": "code",
      "source": [
        "# Comparision Operators\n",
        "a=8\n",
        "b=8\n",
        "print(\"a>b\",a>b)\n",
        "print(\"a>=b\",a>=b)\n",
        "print(\"a<b\",a<b)\n",
        "print(\"a<=b\",a<=b)\n",
        "print(\"a==b\",a==b)\n",
        "print(\"a!=b\",a!=b)"
      ],
      "metadata": {
        "colab": {
          "base_uri": "https://localhost:8080/"
        },
        "id": "3k4N3To70ujx",
        "outputId": "9cf60795-9c1c-47b3-8cf8-b3edfca4b4dd"
      },
      "execution_count": 7,
      "outputs": [
        {
          "output_type": "stream",
          "name": "stdout",
          "text": [
            "a>b False\n",
            "a>=b True\n",
            "a<b False\n",
            "a<=b True\n",
            "a==b True\n",
            "a!=b False\n"
          ]
        }
      ]
    },
    {
      "cell_type": "code",
      "source": [
        "# Logical Operators: and, or, not\n",
        "a=0\n",
        "b=20\n",
        "c=30\n",
        "print(\"a,b and c =\", a and b and c)\n",
        "print(\"a,b or c =\", a or b or c)\n",
        "print(\"not a =\", not a)"
      ],
      "metadata": {
        "colab": {
          "base_uri": "https://localhost:8080/"
        },
        "id": "kAldMXDn1tWP",
        "outputId": "b4233291-ef21-4e3c-8bd6-027814a6fd3f"
      },
      "execution_count": 16,
      "outputs": [
        {
          "output_type": "stream",
          "name": "stdout",
          "text": [
            "a,b and c = 0\n",
            "a,b or c = 20\n",
            "not a = True\n"
          ]
        }
      ]
    },
    {
      "cell_type": "code",
      "source": [
        "# Increment and Decrement Operator\n",
        "a=10\n",
        "print(\"Before incrementation the value of a = \",a)\n",
        "a=a+1\n",
        "print(\"After incrementation the value of a = \",a)\n",
        "a=a-1\n",
        "print(\"After decrementation the value of a = \",a)"
      ],
      "metadata": {
        "colab": {
          "base_uri": "https://localhost:8080/"
        },
        "id": "HTL_FeA44EqM",
        "outputId": "bcb477eb-2b24-415b-b0b1-969e2d4b155b"
      },
      "execution_count": 18,
      "outputs": [
        {
          "output_type": "stream",
          "name": "stdout",
          "text": [
            "Before incrementation the value of a =  10\n",
            "After incrementation the value of a =  11\n",
            "After decrementation the value of a =  10\n"
          ]
        }
      ]
    },
    {
      "cell_type": "code",
      "source": [
        "# Different Data Types\n",
        "a=10\n",
        "b=10.5\n",
        "c='h'\n",
        "d=\"hello\"\n",
        "e=True\n",
        "f=False\n",
        "print(\"Value of a = \",a)\n",
        "print(\"Value of b = \",b)\n",
        "print(\"Value of c = \",c)\n",
        "print(\"Value of d = \",d)\n",
        "print(\"Value of e = \",e)\n",
        "print(\"Value of f = \",f)\n",
        "print(\"Type of a:\",type(a))\n",
        "print(\"Type of b:\",type(b))\n",
        "print(\"Type of c:\",type(c))\n",
        "print(\"Type of d:\",type(d))\n",
        "print(\"Type of e:\",type(e))\n",
        "print(\"Type of f:\",type(f))"
      ],
      "metadata": {
        "colab": {
          "base_uri": "https://localhost:8080/"
        },
        "id": "QPl-FiIw46RN",
        "outputId": "f6c1b7e9-414b-4246-ca7c-f9f604f33ad3"
      },
      "execution_count": 25,
      "outputs": [
        {
          "output_type": "stream",
          "name": "stdout",
          "text": [
            "Value of a =  10\n",
            "Value of b =  10.5\n",
            "Value of c =  h\n",
            "Value of d =  hello\n",
            "Value of e =  True\n",
            "Value of f =  False\n",
            "Type of a: <class 'int'>\n",
            "Type of b: <class 'float'>\n",
            "Type of c: <class 'str'>\n",
            "Type of d: <class 'str'>\n",
            "Type of e: <class 'bool'>\n",
            "Type of f: <class 'bool'>\n"
          ]
        }
      ]
    },
    {
      "cell_type": "code",
      "source": [
        "# User Input Program\n",
        "a=input(\"Enter the value of a: \")\n",
        "print(\"The value of a\",a)\n",
        "print(\"Type of a:\",type(a))\n",
        "b=int(input(\"Enter the value of b: \"))\n",
        "print(\"The value of b\",b)\n",
        "print(\"Type of b:\",type(b))"
      ],
      "metadata": {
        "colab": {
          "base_uri": "https://localhost:8080/"
        },
        "id": "VIkmdxkk6wX1",
        "outputId": "0e7d2c2c-a535-4bfc-be56-5bb5dd3cbe2a"
      },
      "execution_count": 24,
      "outputs": [
        {
          "output_type": "stream",
          "name": "stdout",
          "text": [
            "Enter the value of a: 10\n",
            "The value of a 10\n",
            "Type of a: <class 'str'>\n",
            "Enter the value of b: 10\n",
            "The value of b 10\n",
            "Type of b: <class 'int'>\n"
          ]
        }
      ]
    },
    {
      "cell_type": "code",
      "source": [
        "# Calculating the sum and average of a student\n",
        "math=int(input(\"Enter the marks scored in Mathematics = \"))\n",
        "phy=int(input(\"Enter the marks scored in Physics = \"))\n",
        "chem=int(input(\"Enter the marks scored in Chemistry = \"))\n",
        "sum=math+phy+chem\n",
        "avg=sum/3\n",
        "print(\"The sum of total marks = \",sum)\n",
        "print(\"The average of total marks = \",avg)\n"
      ],
      "metadata": {
        "colab": {
          "base_uri": "https://localhost:8080/"
        },
        "id": "FBXaaTML8Z_i",
        "outputId": "c0b81b24-96dc-4f83-8e79-4d9714ca1b6b"
      },
      "execution_count": 29,
      "outputs": [
        {
          "output_type": "stream",
          "name": "stdout",
          "text": [
            "Enter the marks scored in Mathematics = 80\n",
            "Enter the marks scored in Physics = 79\n",
            "Enter the marks scored in Chemistry = 73\n",
            "The sum of total marks =  232\n",
            "The average of total marks =  77.33333333333333\n"
          ]
        }
      ]
    },
    {
      "cell_type": "code",
      "source": [
        "# Type Conversion\n",
        "a=10\n",
        "print(\"Before conversion the value of a = \",a)\n",
        "print(\"Type of a (before conversion):\",type(a))\n",
        "a=float(10)\n",
        "print(\"After conversion the value of a = \",a)\n",
        "print(\"Type of a (after conversion):\",type(a))\n",
        "b=10.5\n",
        "print(\"Before conversion the value of b = \",b)\n",
        "print(\"Type of b (before conversion):\",type(b))\n",
        "b=int(10.5)\n",
        "print(\"After conversion the value of b = \",b)\n",
        "print(\"Type of b (after conversion):\",type(b))"
      ],
      "metadata": {
        "colab": {
          "base_uri": "https://localhost:8080/"
        },
        "id": "Uukl6ojE-SOf",
        "outputId": "09db80c3-a263-46b3-f0fb-23f2cf0862b4"
      },
      "execution_count": 31,
      "outputs": [
        {
          "output_type": "stream",
          "name": "stdout",
          "text": [
            "Before conversion the value of a =  10\n",
            "Type of a (before conversion): <class 'int'>\n",
            "After conversion the value of a =  10.0\n",
            "Type of a (after conversion): <class 'float'>\n",
            "Before conversion the value of b =  10.5\n",
            "Type of b (before conversion): <class 'float'>\n",
            "After conversion the value of b =  10\n",
            "Type of b (after conversion): <class 'int'>\n"
          ]
        }
      ]
    },
    {
      "cell_type": "code",
      "source": [
        "# Loops\n",
        "a=34\n",
        "b=36\n",
        "if a>b:\n",
        "  print(\"a is greater than b\")\n",
        "else:\n",
        "  print(\"b is greater the a\")"
      ],
      "metadata": {
        "colab": {
          "base_uri": "https://localhost:8080/"
        },
        "id": "8XSpy0h9_qsz",
        "outputId": "6d6e16d7-9676-48aa-e628-3a7479f575af"
      },
      "execution_count": 32,
      "outputs": [
        {
          "output_type": "stream",
          "name": "stdout",
          "text": [
            "b is greater the a\n"
          ]
        }
      ]
    },
    {
      "cell_type": "code",
      "source": [
        "# Biggest of three number using Logical Operator\n",
        "a=int(input(\"Enter the value of a: \"))\n",
        "b=int(input(\"Enter the value of b: \"))\n",
        "c=int(input(\"Enter the value of c: \"))\n",
        "if a>b and a>c:\n",
        "  print(\"a is greatest: \",a)\n",
        "if b>a and b>c:\n",
        "   print(\"b is greatest: \",b)\n",
        "if c>a and c>b:\n",
        "   print(\"c is greatest: \",c)\n"
      ],
      "metadata": {
        "colab": {
          "base_uri": "https://localhost:8080/"
        },
        "id": "QQGF7ZdgA-6m",
        "outputId": "10d47125-c029-4b12-f561-5c947a38c13d"
      },
      "execution_count": 35,
      "outputs": [
        {
          "output_type": "stream",
          "name": "stdout",
          "text": [
            "Enter the value of a: 76\n",
            "Enter the value of b: 79\n",
            "Enter the value of c: 83\n",
            "c is greatest:  83\n"
          ]
        }
      ]
    },
    {
      "cell_type": "code",
      "source": [
        "# Biggest of three numbers using Nested if-else\n",
        "a=int(input(\"Enter the value of a: \"))\n",
        "b=int(input(\"Enter the value of b: \"))\n",
        "c=int(input(\"Enter the value of c: \"))\n",
        "if a>b:\n",
        "  if a>c:\n",
        "    print(\"a is greatest: \",a)\n",
        "  else:\n",
        "    print(\"c is greatest: \",c)\n",
        "else:\n",
        "  if b>c:\n",
        "    print(\"b is greatest: \",b)\n",
        "  else:\n",
        "    print(\"c is greatest: \",c)\n",
        "\n"
      ],
      "metadata": {
        "colab": {
          "base_uri": "https://localhost:8080/"
        },
        "id": "1nOPl2t7S94U",
        "outputId": "c80eb20b-5c03-4d71-a195-f33de8e14129"
      },
      "execution_count": 42,
      "outputs": [
        {
          "output_type": "stream",
          "name": "stdout",
          "text": [
            "Enter the value of a: 10\n",
            "Enter the value of b: 20\n",
            "Enter the value of c: 20\n",
            "c is greatest:  20\n"
          ]
        }
      ]
    },
    {
      "cell_type": "code",
      "source": [
        "# Biggest of three numbers using elif statement\n",
        "a=int(input(\"Enter the value of a: \"))\n",
        "b=int(input(\"Enter the value of b: \"))\n",
        "c=int(input(\"Enter the value of c: \"))\n",
        "if a>b:\n",
        "  if a>c:\n",
        "    print(\"a is greatest: \",a)\n",
        "  else:\n",
        "    print(\"c is greatest: \",c)\n",
        "elif b>c:\n",
        "    print(\"b is greatest: \",b)\n",
        "else:\n",
        "    print(\"c is greatest: \",c)\n",
        "\n",
        "\n"
      ],
      "metadata": {
        "colab": {
          "base_uri": "https://localhost:8080/"
        },
        "id": "1TEWMwLIVTxm",
        "outputId": "ea5e8529-4db3-4421-c2d4-ffb74d5441b9"
      },
      "execution_count": 45,
      "outputs": [
        {
          "output_type": "stream",
          "name": "stdout",
          "text": [
            "Enter the value of a: 10\n",
            "Enter the value of b: 12\n",
            "Enter the value of c: 13\n",
            "c is greatest:  13\n"
          ]
        }
      ]
    },
    {
      "cell_type": "code",
      "source": [
        "# While loop for printing numbers from 1 to n\n",
        "i=1\n",
        "n=int(input(\"Enter the value of n: \"))\n",
        "while i<=n:\n",
        "   print(\"The value of i: \",i)\n",
        "   i=i+1"
      ],
      "metadata": {
        "colab": {
          "base_uri": "https://localhost:8080/"
        },
        "id": "Uhby9GzEXF3Y",
        "outputId": "72ee854a-d0b4-4a69-9147-0e1abf245517"
      },
      "execution_count": 3,
      "outputs": [
        {
          "output_type": "stream",
          "name": "stdout",
          "text": [
            "Enter the value of n: 11\n",
            "The value of i:  1\n",
            "The value of i:  2\n",
            "The value of i:  3\n",
            "The value of i:  4\n",
            "The value of i:  5\n",
            "The value of i:  6\n",
            "The value of i:  7\n",
            "The value of i:  8\n",
            "The value of i:  9\n",
            "The value of i:  10\n",
            "The value of i:  11\n"
          ]
        }
      ]
    },
    {
      "cell_type": "code",
      "source": [
        "# While loop for printing numbers from 1 to n(even numbers)\n",
        "i=2\n",
        "n=int(input(\"Enter the value of n: \"))\n",
        "while i<=n:\n",
        "   print(\"The value of i: \",i)\n",
        "   i=i+2"
      ],
      "metadata": {
        "colab": {
          "base_uri": "https://localhost:8080/"
        },
        "id": "diaDpLLjaS3y",
        "outputId": "cf0b172f-5d8e-4cb0-f64f-6394d5266c1c"
      },
      "execution_count": 4,
      "outputs": [
        {
          "output_type": "stream",
          "name": "stdout",
          "text": [
            "Enter the value of n: 10\n",
            "The value of i:  2\n",
            "The value of i:  4\n",
            "The value of i:  6\n",
            "The value of i:  8\n",
            "The value of i:  10\n"
          ]
        }
      ]
    },
    {
      "cell_type": "code",
      "source": [
        "# While loop for printing numbers from 1 to n(odd numbers) and finding the sum\n",
        "i=1\n",
        "s=0\n",
        "n=int(input(\"Enter the value of n: \"))\n",
        "while i<=n:\n",
        "   print(\"The value of i: \",i)\n",
        "   i=i+2\n",
        "   s=s+i\n",
        "print(\"The sum is: \",s)\n"
      ],
      "metadata": {
        "colab": {
          "base_uri": "https://localhost:8080/"
        },
        "id": "N1CIsFaUaYeH",
        "outputId": "cb60a7a0-0236-475f-d197-a58997dc1445"
      },
      "execution_count": 8,
      "outputs": [
        {
          "output_type": "stream",
          "name": "stdout",
          "text": [
            "Enter the value of n: 11\n",
            "The value of i:  1\n",
            "The value of i:  3\n",
            "The value of i:  5\n",
            "The value of i:  7\n",
            "The value of i:  9\n",
            "The value of i:  11\n",
            "The sum is:  48\n"
          ]
        }
      ]
    },
    {
      "cell_type": "code",
      "source": [
        "# For-loop; for printing the numbers from 1 to n\n",
        "n=int(input(\"Enter the value of n: \"))\n",
        "for i in range(n+1):\n",
        "  print(\"The value of i\",i)\n",
        "  i=i+1"
      ],
      "metadata": {
        "colab": {
          "base_uri": "https://localhost:8080/"
        },
        "id": "WpSM7PbGcEeq",
        "outputId": "eb67cfe1-b236-4f8a-8585-1c2af8db99eb"
      },
      "execution_count": 15,
      "outputs": [
        {
          "output_type": "stream",
          "name": "stdout",
          "text": [
            "Enter the value of n: 10\n",
            "The value of i 0\n",
            "The value of i 1\n",
            "The value of i 2\n",
            "The value of i 3\n",
            "The value of i 4\n",
            "The value of i 5\n",
            "The value of i 6\n",
            "The value of i 7\n",
            "The value of i 8\n",
            "The value of i 9\n",
            "The value of i 10\n"
          ]
        }
      ]
    },
    {
      "cell_type": "code",
      "source": [
        "# For-loop; for printing the numbers from 1 to n (starting form 1)\n",
        "n=int(input(\"Enter the value of n: \"))\n",
        "for i in range(1,n+1,1):\n",
        "  print(\"The value of i\",i)\n",
        ""
      ],
      "metadata": {
        "colab": {
          "base_uri": "https://localhost:8080/"
        },
        "id": "lQ1dJkoAeHyh",
        "outputId": "2007cdb5-375e-47ec-84d3-ac7ad1a361a1"
      },
      "execution_count": 17,
      "outputs": [
        {
          "output_type": "stream",
          "name": "stdout",
          "text": [
            "Enter the value of n: 10\n",
            "The value of i 1\n",
            "The value of i 2\n",
            "The value of i 3\n",
            "The value of i 4\n",
            "The value of i 5\n",
            "The value of i 6\n",
            "The value of i 7\n",
            "The value of i 8\n",
            "The value of i 9\n",
            "The value of i 10\n"
          ]
        }
      ]
    },
    {
      "cell_type": "code",
      "source": [
        "# For-loop; for printing the numbers from 1 to n and printing the sum\n",
        "n= int(input(\"Enter the value of n: \"))\n",
        "s = 0\n",
        "for i in range(2, n+1, 2):\n",
        "    print(\"The value of i:\", i)\n",
        "    s=s+i\n",
        "print(\"The sum is:\", s)"
      ],
      "metadata": {
        "colab": {
          "base_uri": "https://localhost:8080/"
        },
        "id": "e-cSvCPWen6T",
        "outputId": "a7b0bc32-1b14-4608-8409-74b188bc56f3"
      },
      "execution_count": 33,
      "outputs": [
        {
          "output_type": "stream",
          "name": "stdout",
          "text": [
            "Enter the value of n: 10\n",
            "The value of i: 2\n",
            "The value of i: 4\n",
            "The value of i: 6\n",
            "The value of i: 8\n",
            "The value of i: 10\n",
            "The sum is: 30\n"
          ]
        }
      ]
    },
    {
      "cell_type": "code",
      "source": [
        "# Finding the grade of a student using elif statement\n",
        "math=int(input(\"Enter the marks scored in Mathematics = \"))\n",
        "phy=int(input(\"Enter the marks scored in Physics = \"))\n",
        "chem=int(input(\"Enter the marks scored in Chemistry = \"))\n",
        "sum=math+phy+chem\n",
        "avg=sum/3\n",
        "print(\"The sum of total marks = \",sum)\n",
        "print(\"The average of total marks = \",avg)\n",
        "if avg>=95:\n",
        "  print(\"You scored A+!\")\n",
        "elif avg>=90:\n",
        "  print(\"You scored A!\")\n",
        "elif avg>=85:\n",
        "  print(\"You scored B+!\")\n",
        "elif avg>=80:\n",
        "  print(\"You scored B!\")\n",
        "else:\n",
        "  print(\"You scored F.1\")"
      ],
      "metadata": {
        "colab": {
          "base_uri": "https://localhost:8080/"
        },
        "id": "iGG5r2_8mM_2",
        "outputId": "5351ea56-9cd2-4fea-c6b5-15d75e87c5b5"
      },
      "execution_count": 35,
      "outputs": [
        {
          "output_type": "stream",
          "name": "stdout",
          "text": [
            "Enter the marks scored in Mathematics = 100\n",
            "Enter the marks scored in Physics = 100\n",
            "Enter the marks scored in Chemistry = 100\n",
            "The sum of total marks =  300\n",
            "The average of total marks =  100.0\n",
            "You scored A+!\n"
          ]
        }
      ]
    }
  ]
}