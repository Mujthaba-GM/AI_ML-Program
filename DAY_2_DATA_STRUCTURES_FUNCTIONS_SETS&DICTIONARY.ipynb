{
  "nbformat": 4,
  "nbformat_minor": 0,
  "metadata": {
    "colab": {
      "provenance": [],
      "authorship_tag": "ABX9TyONzcQnq7Ddpi7ByzPIaldq",
      "include_colab_link": true
    },
    "kernelspec": {
      "name": "python3",
      "display_name": "Python 3"
    },
    "language_info": {
      "name": "python"
    }
  },
  "cells": [
    {
      "cell_type": "markdown",
      "metadata": {
        "id": "view-in-github",
        "colab_type": "text"
      },
      "source": [
        "<a href=\"https://colab.research.google.com/github/dh839/AI_ML-Program/blob/main/DAY_2_DATA_STRUCTURES_FUNCTIONS_SETS%26DICTIONARY.ipynb\" target=\"_parent\"><img src=\"https://colab.research.google.com/assets/colab-badge.svg\" alt=\"Open In Colab\"/></a>"
      ]
    },
    {
      "cell_type": "code",
      "execution_count": null,
      "metadata": {
        "colab": {
          "base_uri": "https://localhost:8080/"
        },
        "id": "ljrIvhxP6MCY",
        "outputId": "b86c3937-a2ce-40f7-80f5-0e053a300605"
      },
      "outputs": [
        {
          "output_type": "stream",
          "name": "stdout",
          "text": [
            "Integer list [30, 40, 50, 60]\n",
            "Float List [25.5, 35.5, 40.0]\n",
            "Character list ['a', 'b', 'c', 'd']\n",
            "String list ['apple', 'banana', 'orange', 'mango']\n",
            "----------------------------------------------\n",
            "Integer Slice [30, 40, 50]\n",
            "Float Slice [25.5, 35.5]\n",
            "Character Slice ['a', 'b']\n",
            "String Slice ['apple']\n",
            "----------------------------------------------\n",
            "Negative Integer Slicing [30, 40, 50]\n",
            "Negative Integer Slice with Single Bond 50\n",
            "Negative Float Slicing [25.5]\n",
            "Negative Character Slicing ['a', 'b']\n",
            "Negative String Slicing ['apple', 'banana', 'orange']\n",
            "----------------------------------------------\n",
            "Mix List [25, 36.5, 'a', 'one', 34, 57.6, 'b', 'four', 23, 88.6]\n",
            "Mix List [25, 36.5, 'a', 'one', 34, 57.6]\n",
            "Mix List ['a', 'one', 34, 57.6, 'b', 'four', 23]\n",
            "Mix List []\n"
          ]
        }
      ],
      "source": [
        "# Creating different types of list\n",
        "\n",
        "int_list=[30,40,50,60]\n",
        "print(\"Integer list\",int_list)\n",
        "float_list=[25.5,35.5,40.0]\n",
        "print(\"Float List\",float_list)\n",
        "chr_list=[\"a\",\"b\",\"c\",\"d\"]\n",
        "print(\"Character list\",chr_list)\n",
        "str_list=[\"apple\",\"banana\",\"orange\",\"mango\"]\n",
        "print(\"String list\",str_list)\n",
        "\n",
        "print(\"----------------------------------------------\")\n",
        "\n",
        "print(\"Integer Slice\",int_list[0:3])#OUTPUT: 30,40,50\n",
        "print(\"Float Slice\",float_list[0:2])#OUTPUT: 25.5,35.5\n",
        "print(\"Character Slice\",chr_list[0:2])#OUTPUT: a,b\n",
        "print(\"String Slice\",str_list[0:1])#OUTPUT: apple\n",
        "\n",
        "print(\"----------------------------------------------\")\n",
        "\n",
        "print(\"Negative Integer Slicing\",int_list[0:-1])#OUTPUT: 30,40,50\n",
        "print(\"Negative Integer Slice with Single Bond\",int_list[-2])#OUTPUT: 50\n",
        "print(\"Negative Float Slicing\",float_list[0:-2])#OUTPUT: 25.5\n",
        "print(\"Negative Character Slicing\",chr_list[0:-2])#OUTPUT: a,b\n",
        "print(\"Negative String Slicing\",str_list[0:-1])#OUTPUT: apple,banana,orange\n",
        "\n",
        "print(\"----------------------------------------------\")\n",
        "\n",
        "mix_list=[25,36.5,\"a\",\"one\",34,57.6,\"b\",\"four\",23,88.6]\n",
        "print(\"Mix List\",mix_list)\n",
        "print(\"Mix List\",mix_list[0:-4])#OUTPUT: 25,36.5,\"a\",\"one\",34\n",
        "print(\"Mix List\",mix_list[2:-1])#OUTPUT: 36.5,\"a\",\"one\",34,57.6,\"b\",\"four\",23\n",
        "print(\"Mix List\",mix_list[-1:-3])#OUTPUT:invalid"
      ]
    },
    {
      "cell_type": "code",
      "source": [
        "#Printing the List Data Types\n",
        "\n",
        "print(\"Integer List Type\",type(int_list))\n",
        "print(\"Float List Type\",type(float_list))\n",
        "print(\"Character List Type\",type(chr_list))\n",
        "print(\"String List Type\",type(str_list))\n",
        "print(\"Mix List Type\",type(mix_list))"
      ],
      "metadata": {
        "colab": {
          "base_uri": "https://localhost:8080/"
        },
        "id": "zCGqB0c_8dSN",
        "outputId": "6058391c-98fc-4a47-c386-f8a92d37e469"
      },
      "execution_count": null,
      "outputs": [
        {
          "output_type": "stream",
          "name": "stdout",
          "text": [
            "Integer List Type <class 'list'>\n",
            "Float List Type <class 'list'>\n",
            "Character List Type <class 'list'>\n",
            "String List Type <class 'list'>\n",
            "Mix List Type <class 'list'>\n"
          ]
        }
      ]
    },
    {
      "cell_type": "code",
      "source": [
        "# List Functions\n",
        "int_list.append(70)\n",
        "print(\"Integer List (after Appending the Value at the Last)\",int_list)\n",
        "\n",
        "print(\"----------------------------------------------\")\n",
        "\n",
        "int_list.extend([80,90,100])\n",
        "print(\"Integer List after (Extending the Value at the Last)\",int_list)\n",
        "\n",
        "print(\"----------------------------------------------\")\n",
        "\n",
        "int_list.insert(3,55)\n",
        "print(\"Integer List after (Inserting the Value at a specific position)\",int_list)\n",
        "\n",
        "print(\"----------------------------------------------\")\n",
        "\n",
        "int_list.remove(70)\n",
        "print(\"Integer List after (Removing the specific Value)\",int_list)\n",
        "\n",
        "print(\"----------------------------------------------\")\n",
        "\n",
        "str_list=[\"apple\",\"banana\",\"orange\",\"mango\"]\n",
        "print(\"String List before (Removing the Value at the last using Pop)\",str_list)\n",
        "str_list.pop()\n",
        "print(\"String List after (Removing the Value at the last using Pop)\",str_list)\n",
        "\n",
        "print(\"----------------------------------------------\")\n",
        "\n",
        "chr_list=[\"a\",\"b\",\"c\",\"d\"]\n",
        "print(\"Character List before (Removing the Value at the last using Pop)\",chr_list)\n",
        "chr_list.pop()\n",
        "print(\"Charcter List after (Removing the Value at the last using Pop)\",chr_list)\n",
        "\n",
        "print(\"----------------------------------------------\")\n",
        "\n",
        "count=float_list.count(40.0)\n",
        "print(\"Float List after (Counting)\",count)\n",
        "\n",
        "print(\"----------------------------------------------\")\n",
        "\n",
        "int_list.sort()\n",
        "print(\"Integer list after (Sorting)\",int_list)\n",
        "\n",
        "print(\"----------------------------------------------\")\n",
        "\n",
        "d_int_list=int_list\n",
        "print(\"Dummy Integer List\",d_int_list)\n",
        "d_int_list.clear()\n",
        "print(\"Dummy Integer List (after Clearing)\",d_int_list)\n",
        "\n",
        "print(\"-----------------------------------------------\")\n",
        "\n",
        "print(\"String List\",str_list)\n",
        "joined1 = \"$\".join(str_list)\n",
        "print(\"Joined String List\",joined1)\n",
        "\n",
        "print(\"----------------------------------------------\")\n",
        "\n",
        "print(\"String Concatination\",str_list*2)\n",
        "print(\"Adding both the list\",int_list+float_list)"
      ],
      "metadata": {
        "colab": {
          "base_uri": "https://localhost:8080/"
        },
        "id": "PxOK-0EH_1Bx",
        "outputId": "3127d519-2bc4-4fbf-f694-1403700f143c"
      },
      "execution_count": null,
      "outputs": [
        {
          "output_type": "stream",
          "name": "stdout",
          "text": [
            "Integer List (after Appending the Value at the Last) [70]\n",
            "----------------------------------------------\n",
            "Integer List after (Extending the Value at the Last) [70, 80, 90, 100]\n",
            "----------------------------------------------\n",
            "Integer List after (Inserting the Value at a specific position) [70, 80, 90, 55, 100]\n",
            "----------------------------------------------\n",
            "Integer List after (Removing the specific Value) [80, 90, 55, 100]\n",
            "----------------------------------------------\n",
            "String List before (Removing the Value at the last using Pop) ['apple', 'banana', 'orange', 'mango']\n",
            "String List after (Removing the Value at the last using Pop) ['apple', 'banana', 'orange']\n",
            "----------------------------------------------\n",
            "Character List before (Removing the Value at the last using Pop) ['a', 'b', 'c', 'd']\n",
            "Charcter List after (Removing the Value at the last using Pop) ['a', 'b', 'c']\n",
            "----------------------------------------------\n",
            "Float List after (Counting) 1\n",
            "----------------------------------------------\n",
            "Integer list after (Sorting) [55, 80, 90, 100]\n",
            "----------------------------------------------\n",
            "Dummy Integer List [55, 80, 90, 100]\n",
            "Dummy Integer List (after Clearing) []\n",
            "-----------------------------------------------\n",
            "String List ['apple', 'banana', 'orange']\n",
            "Joined String List apple$banana$orange\n",
            "----------------------------------------------\n",
            "String Concatination ['apple', 'banana', 'orange', 'apple', 'banana', 'orange']\n",
            "Adding both the list [25.5, 35.5, 40.0]\n"
          ]
        }
      ]
    },
    {
      "cell_type": "code",
      "source": [
        "#Tuples\n",
        "int_tuple=(5,6,9,7,7)\n",
        "print(\"Integer tuple\",int_tuple)\n",
        "print(\"Integer tuple after slicing\",int_tuple[0:3])\n",
        "\n",
        "print(\"-----------------------------\")\n",
        "\n",
        "float_tuple=(5.5,8.5,8.9)\n",
        "print(\"Float tuple\",float_tuple)\n",
        "print(\"Float tuple after slicing\",float_tuple[0:-1])\n",
        "\n",
        "print(\"-----------------------------\")\n",
        "\n",
        "chr_tuple=(\"a\",\"b\",\"c\",\"d\")\n",
        "print(\"Charcter tuple\",chr_tuple)\n",
        "print(\"Charcter tuple after slicing\",chr_tuple[0:2])\n",
        "\n",
        "print(\"-----------------------------\")\n",
        "\n",
        "str_tuple=(\"one\",\"two\",\"three\")\n",
        "print(\"String tuple\",str_tuple)\n",
        "print(\"String tuple after slicing\",str_tuple[0:1])"
      ],
      "metadata": {
        "colab": {
          "base_uri": "https://localhost:8080/"
        },
        "id": "mVHievU9JoKb",
        "outputId": "6dfbc2b2-0bb3-48c2-9fd5-f07e2ac1613a"
      },
      "execution_count": null,
      "outputs": [
        {
          "output_type": "stream",
          "name": "stdout",
          "text": [
            "Integer tuple (5, 6, 9, 7, 7)\n",
            "Integer tuple after slicing (5, 6, 9)\n",
            "-----------------------------\n",
            "Float tuple (5.5, 8.5, 8.9)\n",
            "Float tuple after slicing (5.5, 8.5)\n",
            "-----------------------------\n",
            "Charcter tuple ('a', 'b', 'c', 'd')\n",
            "Charcter tuple after slicing ('a', 'b')\n",
            "-----------------------------\n",
            "String tuple ('one', 'two', 'three')\n",
            "String tuple after slicing ('one',)\n"
          ]
        }
      ]
    },
    {
      "cell_type": "code",
      "source": [
        "#Tuple Functions\n",
        "t1=(20,30,30,60,20,40)\n",
        "print(\"Length of t1 :\", len(t1))\n",
        "print(\"Count of 20 in t1:\", t1.count(20))\n",
        "print(\"Index of 30 in t1:\", t1.index(30))\n"
      ],
      "metadata": {
        "colab": {
          "base_uri": "https://localhost:8080/"
        },
        "id": "kmZaC1Y9MvLI",
        "outputId": "0510754d-a474-4b3c-ee68-d40ca77f1cd6"
      },
      "execution_count": null,
      "outputs": [
        {
          "output_type": "stream",
          "name": "stdout",
          "text": [
            "Length of t1 : 6\n",
            "Count of 20 in t1: 2\n",
            "Index of 30 in t1: 1\n"
          ]
        }
      ]
    },
    {
      "cell_type": "code",
      "source": [
        "#Set Operations\n",
        "set_1={1,2,3,4,5,5}\n",
        "set_2={2,5,6,3}\n",
        "set_3={\"a\",\"five\",\"eight\"}\n",
        "set_4={2.5,2.6,56.0}\n",
        "set_5={\"b\",\"seven\",\"five\"}\n",
        "print(\"Set 1: \",set_1)\n",
        "print(\"Set 2: \",set_2)\n",
        "print(\"Set 3: \",set_3)\n",
        "print(\"Set 4: \",set_4)\n",
        "print(\"Set 5: \",set_5)\n",
        "\n",
        "print(\"-------------------------\")\n",
        "\n",
        "#type\n",
        "print(\"Set 1: \",type(set_1))\n",
        "\n",
        "print(\"-------------------------\")\n",
        "\n",
        "#union\n",
        "print(\"Union with keyword\",set_1.union(set_2))\n",
        "print(\"UNION:\",set_1|set_2)\n",
        "print(\"UNION:\",set_3|set_5)\n",
        "\n",
        "print(\"-------------------------\")\n",
        "\n",
        "#intersection\n",
        "print(\"Intersection with keyword\",set_1.intersection(set_2))\n",
        "print(\"INTERSECTION:\",set_1&set_2)\n",
        "print(\"INTERSECTION:\",set_3&set_5)\n",
        "\n",
        "print(\"-------------------------\")\n",
        "\n",
        "#difference\n",
        "print(\"Difference with keyword\",set_1.difference(set_2))\n",
        "print(\"DIFFERNCE:\",set_1-set_2)\n",
        "print(\"DIFFERENCE:\",set_3-set_5)\n",
        "\n",
        "print(\"-------------------------\")\n",
        "\n",
        "#in-function\n",
        "print(\"In with keyword\",1 in(set_2))\n",
        "print(\"IN:\",1 in set_2)\n",
        "print(\"IN:\",'c' in set_5)\n",
        "\n",
        "print(\"-------------------------\")\n",
        "\n",
        "#add\n",
        "set_3.add(\"c\")\n",
        "print(\"ADD:\",set_3)\n",
        "\n",
        "print(\"-------------------------\")\n",
        "\n",
        "#remove\n",
        "set_3.remove(\"a\")\n",
        "print(\"REMOVE:\",set_3)\n",
        "\n",
        "print(\"-------------------------\")\n",
        "\n",
        "#length\n",
        "print(\"Length:\",len(set_1))\n",
        "\n",
        "print(\"-------------------------\")\n",
        "\n",
        "#pop\n",
        "remove=set_1.pop()\n",
        "print(\"POP\",set_1)\n",
        "\n",
        "print(\"-------------------------\")\n",
        "\n",
        "#update\n",
        "set_1_1={1,2,3,4,5,5}\n",
        "set_2_1={2,5,6,3}\n",
        "set_1_1.update(set_2_1)\n",
        "print(\"set_1_1:\",set_1_1)\n",
        "print(\"set_2_1:\",set_2_1)\n",
        "\n"
      ],
      "metadata": {
        "colab": {
          "base_uri": "https://localhost:8080/"
        },
        "id": "zOOZBAfkhGII",
        "outputId": "1f3b9682-fc0d-4ba4-c4b2-8e0c47f8834f"
      },
      "execution_count": 129,
      "outputs": [
        {
          "output_type": "stream",
          "name": "stdout",
          "text": [
            "Set 1:  {1, 2, 3, 4, 5}\n",
            "Set 2:  {2, 3, 5, 6}\n",
            "Set 3:  {'five', 'a', 'eight'}\n",
            "Set 4:  {56.0, 2.5, 2.6}\n",
            "Set 5:  {'seven', 'b', 'five'}\n",
            "-------------------------\n",
            "Set 1:  <class 'set'>\n",
            "-------------------------\n",
            "Union with keyword {1, 2, 3, 4, 5, 6}\n",
            "UNION: {1, 2, 3, 4, 5, 6}\n",
            "UNION: {'five', 'seven', 'a', 'b', 'eight'}\n",
            "-------------------------\n",
            "Intersection with keyword {2, 3, 5}\n",
            "INTERSECTION: {2, 3, 5}\n",
            "INTERSECTION: {'five'}\n",
            "-------------------------\n",
            "Difference with keyword {1, 4}\n",
            "DIFFERNCE: {1, 4}\n",
            "DIFFERENCE: {'a', 'eight'}\n",
            "-------------------------\n",
            "In with keyword False\n",
            "IN: False\n",
            "IN: False\n",
            "-------------------------\n",
            "ADD: {'c', 'five', 'a', 'eight'}\n",
            "-------------------------\n",
            "REMOVE: {'c', 'five', 'eight'}\n",
            "-------------------------\n",
            "Length: 5\n",
            "-------------------------\n",
            "POP {2, 3, 4, 5}\n",
            "-------------------------\n",
            "set_1_1: {1, 2, 3, 4, 5, 6}\n",
            "set_2_1: {2, 3, 5, 6}\n"
          ]
        }
      ]
    },
    {
      "cell_type": "code",
      "source": [
        "#Dictionary\n",
        "d_1={\"name\":\"Dharani\",\"age\":15,\"email\":\"xyz@gmail.com\"}\n",
        "print(d_1)\n",
        "\n",
        "#accessing elements\n",
        "print(d_1[\"name\"])\n",
        "\n",
        "#add\n",
        "d_1[\"gender\"]=\"female\"\n",
        "print(d_1)\n",
        "\n",
        "#update\n",
        "d_1[\"age\"]=16\n",
        "print(d_1)\n",
        "\n",
        "#merging dictionaries\n",
        "d_2={\"place\":\"Hyderabad\"}\n",
        "d_1.update(d_2)\n",
        "print(d_1)\n",
        "\n",
        "#remove\n",
        "d_1.pop(\"gender\")\n",
        "print(d_1)\n",
        "\n",
        "#check\n",
        "print(\"name\"in d_2)\n",
        "\n",
        "#print the index\n",
        "print(d_1.keys())\n",
        "\n",
        "#print the values\n",
        "print(d_1.values())\n",
        "\n",
        "#copying a dictionary from one to another\n",
        "d_1_new=d_1.copy()\n",
        "print(d_1_new)\n",
        "\n",
        "#clear\n",
        "d_1_new.clear()\n",
        "print(d_1_new)"
      ],
      "metadata": {
        "colab": {
          "base_uri": "https://localhost:8080/"
        },
        "id": "XOruSLR0szGN",
        "outputId": "333a3986-2384-4d3a-9209-587eeaf2ca5e"
      },
      "execution_count": 131,
      "outputs": [
        {
          "output_type": "stream",
          "name": "stdout",
          "text": [
            "{'name': 'Dharani', 'age': 15, 'email': 'xyz@gmail.com'}\n",
            "Dharani\n",
            "{'name': 'Dharani', 'age': 15, 'email': 'xyz@gmail.com', 'gender': 'female'}\n",
            "{'name': 'Dharani', 'age': 16, 'email': 'xyz@gmail.com', 'gender': 'female'}\n",
            "{'name': 'Dharani', 'age': 16, 'email': 'xyz@gmail.com', 'gender': 'female', 'place': 'Hyderabad'}\n",
            "{'name': 'Dharani', 'age': 16, 'email': 'xyz@gmail.com', 'place': 'Hyderabad'}\n",
            "False\n",
            "dict_keys(['name', 'age', 'email', 'place'])\n",
            "dict_values(['Dharani', 16, 'xyz@gmail.com', 'Hyderabad'])\n",
            "{'name': 'Dharani', 'age': 16, 'email': 'xyz@gmail.com', 'place': 'Hyderabad'}\n",
            "{}\n"
          ]
        }
      ]
    }
  ]
}